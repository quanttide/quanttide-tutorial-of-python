{
 "cells": [
  {
   "cell_type": "markdown",
   "metadata": {
    "collapsed": true,
    "pycharm": {
     "name": "#%% md\n"
    }
   },
   "source": [
    "# PyCharm\n",
    "\n",
    "## PyCharm Edu下载和安装\n",
    "\n",
    "### 注册Edu账号\n",
    "\n",
    "### 下载\n",
    "\n",
    "- 官网：（打不开）\n",
    "- Homebrew(Mac): https://formulae.brew.sh/cask/pycharm-edu\n",
    "\n",
    "### 安装\n",
    "\n",
    "\n",
    "## 试用\n",
    "\n",
    "- 这个配置对新手比较麻烦，需要详细指导一下。\n"
   ]
  }
 ],
 "metadata": {
  "kernelspec": {
   "display_name": "Python 3",
   "language": "python",
   "name": "python3"
  },
  "language_info": {
   "codemirror_mode": {
    "name": "ipython",
    "version": 2
   },
   "file_extension": ".py",
   "mimetype": "text/x-python",
   "name": "python",
   "nbconvert_exporter": "python",
   "pygments_lexer": "ipython2",
   "version": "2.7.6"
  },
  "pycharm": {
   "stem_cell": {
    "cell_type": "raw",
    "source": [],
    "metadata": {
     "collapsed": false
    }
   }
  }
 },
 "nbformat": 4,
 "nbformat_minor": 0
}