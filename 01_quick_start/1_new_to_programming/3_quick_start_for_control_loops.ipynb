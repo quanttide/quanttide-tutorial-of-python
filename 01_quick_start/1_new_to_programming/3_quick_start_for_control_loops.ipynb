{
 "cells": [
  {
   "cell_type": "markdown",
   "metadata": {
    "collapsed": true,
    "slideshow": {
     "slide_type": "slide"
    }
   },
   "source": [
    "# Python的控制语句"
   ]
  },
  {
   "cell_type": "markdown",
   "metadata": {
    "pycharm": {
     "name": "#%% md\n"
    },
    "slideshow": {
     "slide_type": "slide"
    }
   },
   "source": [
    "## 教学目标\n",
    "\n",
    "- 理解什么是条件语句、如何使用if语句。\n",
    "- 理解什么是循环语句、如何使用for语句和while语句。"
   ]
  },
  {
   "cell_type": "markdown",
   "metadata": {
    "pycharm": {
     "name": "#%% md\n"
    }
   },
   "source": [
    "## 特别注意\n",
    "\n",
    "- Python中使用四个空格来表达\"子代码块\"这一逻辑，使用复合语句时注意空格！！\n",
    "- Python专用编辑器通常会自动帮助空格，尽管如此依然要注意。"
   ]
  },
  {
   "cell_type": "markdown",
   "metadata": {
    "pycharm": {
     "name": "#%% md\n"
    },
    "slideshow": {
     "slide_type": "slide"
    }
   },
   "source": [
    "## 条件语句\n",
    "\n",
    "什么是条件语句？\n",
    "- 条件语句是判断给定的条件是否满足(表达式值是否为0)，并根据判断的结果(真或假)决定执行的语句；\n",
    "- 选择结构用条件语句来实现。"
   ]
  },
  {
   "cell_type": "markdown",
   "metadata": {
    "pycharm": {
     "name": "#%% md\n"
    },
    "slideshow": {
     "slide_type": "slide"
    }
   },
   "source": [
    "### if语句"
   ]
  },
  {
   "cell_type": "code",
   "execution_count": 3,
   "metadata": {
    "pycharm": {
     "is_executing": false,
     "name": "#%%\n"
    },
    "slideshow": {
     "slide_type": "subslide"
    }
   },
   "outputs": [
    {
     "name": "stdout",
     "output_type": "stream",
     "text": [
      "我是一个小可爱\n"
     ]
    }
   ],
   "source": [
    "a = 16\n",
    "if a>10:\n",
    "    print(\"我是一个小可爱\")  # 子代码块，四个空格开头"
   ]
  },
  {
   "cell_type": "markdown",
   "metadata": {
    "pycharm": {
     "name": "#%% md\n"
    },
    "slideshow": {
     "slide_type": "slide"
    }
   },
   "source": [
    "### if...else...语句"
   ]
  },
  {
   "cell_type": "code",
   "execution_count": 2,
   "metadata": {
    "pycharm": {
     "is_executing": false,
     "name": "#%%\n"
    },
    "slideshow": {
     "slide_type": "subslide"
    }
   },
   "outputs": [
    {
     "name": "stdout",
     "output_type": "stream",
     "text": [
      "你才是沙雕网友！你全家都是！\n"
     ]
    }
   ],
   "source": [
    "b = 3\n",
    "if b>5:\n",
    "    print(\"我是一个沙雕网友\")\n",
    "else:\n",
    "    print(\"你才是沙雕网友！你全家都是！\")"
   ]
  },
  {
   "cell_type": "markdown",
   "metadata": {
    "pycharm": {
     "name": "#%% md\n"
    },
    "slideshow": {
     "slide_type": "slide"
    }
   },
   "source": [
    "### if...elif...else语句"
   ]
  },
  {
   "cell_type": "code",
   "execution_count": 3,
   "metadata": {
    "pycharm": {
     "name": "#%%\n"
    },
    "slideshow": {
     "slide_type": "subslide"
    }
   },
   "outputs": [
    {
     "name": "stdout",
     "output_type": "stream",
     "text": [
      "x比6大\n"
     ]
    }
   ],
   "source": [
    "x = 10\n",
    "if x>6:\n",
    "    print(\"x比6大\")\n",
    "elif x==6:\n",
    "    print(\"x等于6\")\n",
    "else:\n",
    "    print(\"x比6小\")"
   ]
  },
  {
   "cell_type": "markdown",
   "metadata": {
    "slideshow": {
     "slide_type": "slide"
    }
   },
   "source": [
    "## 循环语句\n",
    "\n",
    "什么是循环语句？\n",
    "- 循环语句是在程序中只出现一次，但可能会连续运行多次的代码\n"
   ]
  },
  {
   "cell_type": "markdown",
   "metadata": {
    "slideshow": {
     "slide_type": "slide"
    }
   },
   "source": [
    "### for循环\n",
    "\n",
    "- for循环是指定次数的循环"
   ]
  },
  {
   "cell_type": "code",
   "execution_count": 14,
   "metadata": {
    "pycharm": {
     "name": "#%%\n"
    },
    "slideshow": {
     "slide_type": "subslide"
    }
   },
   "outputs": [
    {
     "name": "stdout",
     "output_type": "stream",
     "text": [
      "0\n",
      "1\n",
      "2\n",
      "3\n",
      "4\n"
     ]
    }
   ],
   "source": [
    "for i in [0,1,2,3,4]:\n",
    "    print(i)"
   ]
  },
  {
   "cell_type": "markdown",
   "metadata": {
    "slideshow": {
     "slide_type": "subslide"
    }
   },
   "source": [
    "备注：\n",
    "- for循环在编程语言中的常见实现有两种，迭代器循环（如Python）和计数器循环（如C）。\n",
    "- range(m,n)表示从m到n-1。关于range的详细用法会在后面的部分详细阐述。"
   ]
  },
  {
   "cell_type": "markdown",
   "metadata": {
    "slideshow": {
     "slide_type": "slide"
    }
   },
   "source": [
    "### while循环\n",
    "\n",
    "- while循环是制定条件的循环"
   ]
  },
  {
   "cell_type": "code",
   "execution_count": 10,
   "metadata": {
    "pycharm": {
     "name": "#%%\n"
    },
    "slideshow": {
     "slide_type": "subslide"
    }
   },
   "outputs": [
    {
     "name": "stdout",
     "output_type": "stream",
     "text": [
      "1\n",
      "2\n",
      "3\n",
      "4\n"
     ]
    }
   ],
   "source": [
    "i = 1\n",
    "while True:\n",
    "    print(i)\n",
    "    i+=1\n",
    "    if (i>=5):\n",
    "        break"
   ]
  },
  {
   "cell_type": "markdown",
   "metadata": {
    "slideshow": {
     "slide_type": "slide"
    }
   },
   "source": [
    "## 友情链接\n",
    "\n",
    "- 本讲主要对基本控制语句进行了一些说明，对于每个语句的详细细节以及应用方法将在\"Python控制流程\"一章中阐述。"
   ]
  },
  {
   "cell_type": "markdown",
   "metadata": {
    "pycharm": {
     "name": "#%% md\n"
    },
    "slideshow": {
     "slide_type": "slide"
    }
   },
   "source": [
    "## 本期作业\n",
    "\n",
    "### if语句\n",
    "TODO\n",
    "\n",
    "### for语句\n",
    "TODO\n",
    "\n",
    "### while语句\n",
    "TODO"
   ]
  }
 ],
 "metadata": {
  "celltoolbar": "Slideshow",
  "kernelspec": {
   "display_name": "Python 3",
   "language": "python",
   "name": "python3"
  },
  "language_info": {
   "codemirror_mode": {
    "name": "ipython",
    "version": 3
   },
   "file_extension": ".py",
   "mimetype": "text/x-python",
   "name": "python",
   "nbconvert_exporter": "python",
   "pygments_lexer": "ipython3",
   "version": "3.7.4"
  },
  "pycharm": {
   "stem_cell": {
    "cell_type": "raw",
    "metadata": {
     "collapsed": false
    },
    "source": []
   }
  }
 },
 "nbformat": 4,
 "nbformat_minor": 1
}
