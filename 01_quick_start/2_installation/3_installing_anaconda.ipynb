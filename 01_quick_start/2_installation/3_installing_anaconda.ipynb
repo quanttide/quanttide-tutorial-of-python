{
 "cells": [
  {
   "cell_type": "markdown",
   "metadata": {
    "collapsed": true,
    "pycharm": {
     "name": "#%% md\n"
    }
   },
   "source": [
    "# Anaconda的下载和安装"
   ]
  },
  {
   "cell_type": "markdown",
   "metadata": {
    "collapsed": false,
    "pycharm": {
     "name": "#%% md\n"
    }
   },
   "source": [
    "## 下载和安装\n",
    "\n",
    "### 下载\n",
    "\n",
    "1. 打开官网：https://www.anaconda.com\n",
    "2. 打开download：https://www.anaconda.com/distribution/\n",
    "3. 选择3.x版本：\n",
    "\n",
    "![](images/anaconda_download.jpg)\n",
    "\n",
    "### 安装\n",
    "\n",
    "- 分Mac和Windows录制\n"
   ]
  },
  {
   "cell_type": "markdown",
   "metadata": {
    "collapsed": false,
    "pycharm": {
     "name": "#%% md\n"
    }
   },
   "source": [
    "## 试用\n",
    "\n",
    "- 打开Nagivator，依次介绍。\n",
    "\n",
    "### Spyder\n",
    "\n",
    "### Jupyter Notebook\n",
    "\n"
   ]
  },
  {
   "cell_type": "markdown",
   "metadata": {
    "collapsed": false,
    "pycharm": {
     "name": "#%% md\n"
    }
   },
   "source": [
    "## conda\n",
    "\n",
    "### 使用\n",
    "\n",
    "\n",
    "### 换源"
   ]
  }
 ],
 "metadata": {
  "kernelspec": {
   "display_name": "Python 3.9.9 64-bit ('3.9.9')",
   "language": "python",
   "name": "python3"
  },
  "language_info": {
   "codemirror_mode": {
    "name": "ipython",
    "version": 2
   },
   "file_extension": ".py",
   "mimetype": "text/x-python",
   "name": "python",
   "nbconvert_exporter": "python",
   "pygments_lexer": "ipython2",
   "version": "3.9.9"
  },
  "pycharm": {
   "stem_cell": {
    "cell_type": "raw",
    "metadata": {
     "collapsed": false
    },
    "source": []
   }
  },
  "vscode": {
   "interpreter": {
    "hash": "2c4b94dfdf9b54935dc44fc3ca15ab90906f14eb3af3021ab8e7dec4c5d2cd26"
   }
  }
 },
 "nbformat": 4,
 "nbformat_minor": 0
}
