{
 "cells": [
  {
   "cell_type": "markdown",
   "metadata": {
    "collapsed": true,
    "pycharm": {
     "name": "#%% md\n"
    }
   },
   "source": [
    "# Python下载和安装"
   ]
  },
  {
   "cell_type": "markdown",
   "source": [
    "## 下载和安装\n",
    "\n",
    "1. 打开官网：https://www.python.org\n",
    "\n",
    "2. 下载Python版本，如图所示：\n",
    "\n",
    "![](python_download.jpg)\n",
    "\n",
    "3. 按照步骤安装\n",
    " "
   ],
   "metadata": {
    "collapsed": false,
    "pycharm": {
     "name": "#%% md\n"
    }
   }
  },
  {
   "cell_type": "markdown",
   "source": [
    "## 使用\n",
    "\n",
    "### 解释器\n",
    "\n",
    "```\n",
    ">>> print(\"Hello,world!\")\n",
    "```\n",
    "\n",
    "### IDLE\n",
    "\n",
    "```\n",
    ">>> print(\"Hello,world!\")\n",
    "```"
   ],
   "metadata": {
    "collapsed": false,
    "pycharm": {
     "name": "#%% md\n"
    }
   }
  },
  {
   "cell_type": "markdown",
   "source": [
    "## pip的使用\n",
    "### pip的使用\n",
    "\n",
    "### 换源"
   ],
   "metadata": {
    "collapsed": false,
    "pycharm": {
     "name": "#%% md\n"
    }
   }
  },
  {
   "cell_type": "markdown",
   "source": [
    "## 注意\n",
    "\n",
    "- 官方下载Python速度很慢，找解决方案。\n",
    "- 可能会报错\"IDLE can't import Tkinter. Your Python may not be configured for Tk\"，注意场景及解决方案。"
   ],
   "metadata": {
    "collapsed": false,
    "pycharm": {
     "name": "#%% md\n"
    }
   }
  }
 ],
 "metadata": {
  "kernelspec": {
   "display_name": "Python 3",
   "language": "python",
   "name": "python3"
  },
  "language_info": {
   "codemirror_mode": {
    "name": "ipython",
    "version": 2
   },
   "file_extension": ".py",
   "mimetype": "text/x-python",
   "name": "python",
   "nbconvert_exporter": "python",
   "pygments_lexer": "ipython2",
   "version": "2.7.6"
  },
  "pycharm": {
   "stem_cell": {
    "cell_type": "raw",
    "source": [],
    "metadata": {
     "collapsed": false
    }
   }
  }
 },
 "nbformat": 4,
 "nbformat_minor": 0
}