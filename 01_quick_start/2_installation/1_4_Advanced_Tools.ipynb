{
 "cells": [
  {
   "cell_type": "markdown",
   "source": [
    "# 高级工具\n",
    "\n",
    "## pyenv\n",
    "\n",
    "### 下载和安装\n",
    "\n",
    "Mac:\n",
    "- https://github.com/pyenv/pyenv\n",
    "- 注意配置，zsh要配置到zshrc文件，文档上的配置有问题\n",
    "\n",
    "Win:\n",
    "- https://github.com/pyenv-win/pyenv-win\n",
    "\n",
    "### 使用\n",
    "\n",
    "\n",
    "### pyenv-virtualenv\n",
    "\n",
    "\n",
    "## 几种主流虚拟环境方案\n",
    "\n",
    "### virtualenv\n",
    "\n",
    "- https://virtualenv.pypa.io/en/latest/\n",
    "- https://virtualenvwrapper.readthedocs.io/en/latest/\n",
    "\n",
    "\n",
    "### pipenv\n",
    "\n",
    "\n",
    "### conda\n",
    "\n",
    "\n",
    "## IDE中的虚拟环境\n",
    "\n",
    "### Anaconda\n",
    "\n",
    "\n",
    "### PyCharm\n",
    "\n",
    "- 注意：专门讲一下远程连接服务器"
   ],
   "metadata": {
    "collapsed": false,
    "pycharm": {
     "name": "#%% md\n"
    }
   }
  }
 ],
 "metadata": {
  "kernelspec": {
   "display_name": "Python 3",
   "language": "python",
   "name": "python3"
  },
  "language_info": {
   "codemirror_mode": {
    "name": "ipython",
    "version": 2
   },
   "file_extension": ".py",
   "mimetype": "text/x-python",
   "name": "python",
   "nbconvert_exporter": "python",
   "pygments_lexer": "ipython2",
   "version": "2.7.6"
  },
  "pycharm": {
   "stem_cell": {
    "cell_type": "raw",
    "source": [],
    "metadata": {
     "collapsed": false
    }
   }
  }
 },
 "nbformat": 4,
 "nbformat_minor": 0
}